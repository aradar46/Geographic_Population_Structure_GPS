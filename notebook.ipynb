{
 "cells": [
  {
   "attachments": {},
   "cell_type": "markdown",
   "metadata": {},
   "source": [
    "\n",
    "The dataset of ancient Eurasians (see [DataS1](https://github.com/sarabehnamian/Origins-of-Ancient-Eurasian-Genomes/tree/main/steps/Step%200)). The dataset contains **genetic data** of **ancient Eurasians** from **different time periods**. The data is in the form of **SNP patterns**. The **SNP patterns** are **haplotypes** of **individuals**. Each **haplotype** is a **string** of **0s** and **1s**. The **length** of the **haplotype** is the **number of SNPs**.\n",
    "\n",
    "\n",
    "Develop an interface that allows selecting **populations** and **time** and calculates the **minor allele frequencies** of the chosen populations. The program will **merge patterns** that are too close. The results will be printed on the screen as **admixture plots**."
   ]
  },
  {
   "attachments": {},
   "cell_type": "markdown",
   "metadata": {},
   "source": [
    "# PLINK 1.9 \n",
    "\n",
    "[PLINK](https://www.cog-genomics.org/plink/1.9/) is a free, open-source whole genome association analysis toolset, designed to perform a range of basic, large-scale analyses in a computationally efficient manner. The focus of PLINK is purely on analysis of genotype/phenotype data, so there is no support for a file format for storing sequence data or working with the sequence data directly.\n",
    "\n",
    "[_More..._](https://zzz.bwh.harvard.edu/plink/)\n",
    "\n",
    "[_Tutorial_](https://zzz.bwh.harvard.edu/plink/tutorial.shtml)\n",
    "\n",
    "**_Installation_**\n",
    "\n",
    "` conda install -c bioconda plink `\n",
    "\n",
    "ver: plink-1.90b6.21 \n",
    "\n"
   ]
  },
  {
   "attachments": {},
   "cell_type": "markdown",
   "metadata": {},
   "source": [
    "converting the data to ped format\n",
    "\n",
    "$plink --bfile DataS1 --maf 0.01  --recode --out s1$\n",
    "\n",
    "the ped file is a tab-delimited text file with 6 columns:\n",
    "\n",
    "1. Family ID\n",
    "2. Individual ID\n",
    "3. Paternal ID\n",
    "\n",
    "which allells come ....\n",
    "\n",
    "\n",
    "and the map file is a tab-delimited text file with 4 columns:\n",
    "\n",
    "1. Chromosome (or contig, scaffold, etc.)\n",
    "2. rs# or snp identifier\n",
    "3. Genetic distance (morgans)\n",
    "4. Base-pair position (bp units)\n",
    " \n",
    "\n"
   ]
  },
  {
   "cell_type": "code",
   "execution_count": null,
   "metadata": {},
   "outputs": [],
   "source": [
    "# Load the PED file into a NumPy array\n",
    "file= \"/workspaces/population_genetics_MAF_admixture/Data/s1.ped\"\n",
    "import csv\n",
    "\n",
    "# Open the PED file for reading\n",
    "with open(file, 'r') as ped_file:\n",
    "    # Create a CSV reader object\n",
    "    reader = csv.reader(ped_file, delimiter=' ')\n",
    "    \n",
    "    # Create a dictionary to store allele counts\n",
    "    allele_counts = {}\n",
    "    \n",
    "    # Iterate over each row in the PED file\n",
    "    for row in reader:\n",
    "        # write eachc row in a csv file tab delimited\n",
    "        with open('s1.csv', 'a') as f:\n",
    "            writer = csv.writer(f, delimiter='\\t')\n",
    "            writer.writerow(row)\n",
    "        \n"
   ]
  }
 ],
 "metadata": {
  "kernelspec": {
   "display_name": "Python 3",
   "language": "python",
   "name": "python3"
  },
  "language_info": {
   "codemirror_mode": {
    "name": "ipython",
    "version": 3
   },
   "file_extension": ".py",
   "mimetype": "text/x-python",
   "name": "python",
   "nbconvert_exporter": "python",
   "pygments_lexer": "ipython3",
   "version": "3.10.6"
  },
  "orig_nbformat": 4,
  "vscode": {
   "interpreter": {
    "hash": "916dbcbb3f70747c44a77c7bcd40155683ae19c65e1c03b4aa3499c5328201f1"
   }
  }
 },
 "nbformat": 4,
 "nbformat_minor": 2
}
