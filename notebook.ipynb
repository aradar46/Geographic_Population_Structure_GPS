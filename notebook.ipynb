{
 "cells": [
  {
   "attachments": {},
   "cell_type": "markdown",
   "metadata": {},
   "source": [
    "\n",
    "The dataset of ancient Eurasians (see [DataS1](https://github.com/sarabehnamian/Origins-of-Ancient-Eurasian-Genomes/tree/main/steps/Step%200)). The dataset contains **genetic data** of **ancient Eurasians** from **different time periods**. The data is in the form of **SNP patterns**. The **SNP patterns** are **haplotypes** of **individuals**. Each **haplotype** is a **string** of **0s** and **1s**. The **length** of the **haplotype** is the **number of SNPs**.\n",
    "\n",
    "\n",
    "Develop an interface that allows selecting **populations** and **time** and calculates the **minor allele frequencies** of the chosen populations. The program will **merge patterns** that are too close. The results will be printed on the screen as **admixture plots**."
   ]
  },
  {
   "attachments": {},
   "cell_type": "markdown",
   "metadata": {},
   "source": [
    "# PLINK 1.9 \n",
    "\n",
    "[PLINK](https://www.cog-genomics.org/plink/1.9/) is a free, open-source whole genome association analysis toolset, designed to perform a range of basic, large-scale analyses in a computationally efficient manner. The focus of PLINK is purely on analysis of genotype/phenotype data, so there is no support for a file format for storing sequence data or working with the sequence data directly.\n",
    "\n",
    "[_More..._](https://zzz.bwh.harvard.edu/plink/)\n",
    "\n",
    "[_Tutorial_](https://zzz.bwh.harvard.edu/plink/tutorial.shtml)\n",
    "\n",
    "**_Installation_**\n",
    "\n",
    "` conda install -c bioconda plink `\n",
    "\n"
   ]
  }
 ],
 "metadata": {
  "kernelspec": {
   "display_name": "Python 3",
   "language": "python",
   "name": "python3"
  },
  "language_info": {
   "codemirror_mode": {
    "name": "ipython",
    "version": 3
   },
   "file_extension": ".py",
   "mimetype": "text/x-python",
   "name": "python",
   "nbconvert_exporter": "python",
   "pygments_lexer": "ipython3",
   "version": "3.10.6"
  },
  "orig_nbformat": 4,
  "vscode": {
   "interpreter": {
    "hash": "916dbcbb3f70747c44a77c7bcd40155683ae19c65e1c03b4aa3499c5328201f1"
   }
  }
 },
 "nbformat": 4,
 "nbformat_minor": 2
}
