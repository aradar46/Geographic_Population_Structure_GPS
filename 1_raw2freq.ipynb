{
 "cells": [
  {
   "cell_type": "markdown",
   "metadata": {},
   "source": [
    "# Bim File\n",
    "\n",
    "variant identifier and minor allele"
   ]
  },
  {
   "cell_type": "code",
   "execution_count": 25,
   "metadata": {},
   "outputs": [],
   "source": [
    "import pandas as pd\n",
    "df_bim=pd.read_csv('Data/0_Raw/DataS1.bim', sep='\\t', header=None)\n",
    "# df_bim = 1 and 4 columns\n",
    "df_bim = df_bim[[1, 4]]\n",
    "\n",
    "df_bim.rename(columns={1: 'VariantID', 4: 'minor'}, inplace=True)"
   ]
  },
  {
   "cell_type": "code",
   "execution_count": 26,
   "metadata": {},
   "outputs": [],
   "source": [
    "# conver df_bim['variantID'] to a list\n",
    "columns= df_bim['VariantID'].to_list()\n",
    "columns.insert(0, 'familyID')\n",
    "columns.insert(1, 'individualID')\n",
    "columns.insert(2, 'fatherID')\n",
    "columns.insert(3, 'motherID')\n",
    "columns.insert(4,'Sex')\n",
    "columns.insert(5, 'date')"
   ]
  },
  {
   "cell_type": "code",
   "execution_count": 27,
   "metadata": {},
   "outputs": [],
   "source": [
    "minor=df_bim['minor'].to_list()\n",
    "minor.insert(0, 'None')\n",
    "minor.insert(1, 'None')\n",
    "minor.insert(2, 'None')\n",
    "minor.insert(3, 'None')\n",
    "minor.insert(4,'None')\n",
    "minor.insert(5, 'None')"
   ]
  },
  {
   "cell_type": "markdown",
   "metadata": {},
   "source": [
    "# Ped File\n",
    "\n",
    "familly id and individual id and allels"
   ]
  },
  {
   "cell_type": "markdown",
   "metadata": {},
   "source": [
    "## Split the ped file by familly id"
   ]
  },
  {
   "cell_type": "code",
   "execution_count": 28,
   "metadata": {},
   "outputs": [
    {
     "name": "stdout",
     "output_type": "stream",
     "text": [
      "rm: cannot remove 'Data/1_raw2freq/countries/*': No such file or directory\n"
     ]
    }
   ],
   "source": [
    "! rm -r Data/1_raw2freq/countries/*"
   ]
  },
  {
   "cell_type": "code",
   "execution_count": 29,
   "metadata": {},
   "outputs": [
    {
     "name": "stdout",
     "output_type": "stream",
     "text": [
      "['UnitedKingdom', 'CzechRepublic', 'Germany', 'Spain', 'Lithuania', 'Luxembourg', 'Austria', 'Hungary', 'Estonia', 'Georgia', 'Norway', 'Turkey', 'Portugal', 'Macedonia', 'Switzerland', 'Latvia', 'Russia', 'Jordan', 'Ukraine', 'Iran', 'Israel', 'Poland', 'Armenia', 'Serbia', 'Greece', 'Bulgaria', 'Italy', 'France', 'TheNetherlands', 'Denmark', 'Kazakhstan', 'Croatia', 'Romania', 'Sweden']\n"
     ]
    }
   ],
   "source": [
    "import os\n",
    " \n",
    "def split_and_convert(file_path):\n",
    "    # Create a directory to store output files\n",
    "    os.makedirs('Data/1_raw2freq/countries', exist_ok=True)\n",
    "    populations = []\n",
    "    with open(file_path, 'r') as ped_file:\n",
    "        for row in ped_file:\n",
    "            row_data = row.strip().split()\n",
    "            populations.append(row_data[0])\n",
    "            pedigree = row_data[0]\n",
    "            with open(f'Data/1_raw2freq/countries/{pedigree}.txt', 'a') as out_file:\n",
    "                # Join the pairs of alleles in each row\n",
    "                new_fields = row_data[:6]\n",
    "                for i in range(6, len(row_data), 2):\n",
    "                    new_fields.append(row_data[i] + row_data[i+1])\n",
    "                # Write the new fields to the output file\n",
    "                out_file.write(' '.join(new_fields) + '\\n')\n",
    "        \n",
    "    return list(set(populations))\n",
    "\n",
    "\n",
    "\n",
    "\n",
    "\n",
    "file_path = 'Data/0_Raw/DataS1.ped'\n",
    "\n",
    "populations = split_and_convert(file_path)\n",
    "print(populations)\n",
    "\n"
   ]
  },
  {
   "cell_type": "code",
   "execution_count": 30,
   "metadata": {},
   "outputs": [
    {
     "data": {
      "text/plain": [
       "0       5000\n",
       "1       5000\n",
       "2       4000\n",
       "3       5000\n",
       "4       5000\n",
       "        ... \n",
       "4153    9000\n",
       "4154    1000\n",
       "4155    7000\n",
       "4156    9000\n",
       "4157    4000\n",
       "Name: cat_date, Length: 4158, dtype: int64"
      ]
     },
     "execution_count": 30,
     "metadata": {},
     "output_type": "execute_result"
    }
   ],
   "source": [
    "dfeuro = pd.read_excel(\n",
    "    'Data/0_Raw/Eurasian - Dataset_tims.xlsx', sheet_name='Eurasian')\n",
    "dfeuro = pd.DataFrame(dfeuro)\n",
    "dfeuro.rename(columns={\n",
    "              'Date mean in BP in years before 1950 CE [OxCal mu for a direct radiocarbon date, and average of range for a contextual date]': 'date'}, inplace=True)\n",
    "\n",
    "# date_range is a list of the range of dates from 0 to 12000 years ago in 1000 year intervals\n",
    "date_range = list(range(0, 12000, 1000)) \n",
    "# if dfeuro['date'] is in the range of date_range, then dfeuro['cat_date'] is the index of the range\n",
    "dfeuro['cat_date']=pd.cut(dfeuro['date'], date_range, labels=range(0, len(date_range)-1))\n",
    "# multiply the index by 1000 to get the range of dates\n",
    "dfeuro['cat_date']=dfeuro['cat_date'].astype(int)*1000\n",
    "\n",
    "dfeuro['cat_date']"
   ]
  },
  {
   "cell_type": "code",
   "execution_count": 31,
   "metadata": {},
   "outputs": [],
   "source": [
    "\n",
    "def freq(pop_path, country):\n",
    "    '''This function takes a population file and returns a dictionary of the frequency of each variant'''\n",
    "    df = pd.read_csv(pop_path, sep=' ', header=None)\n",
    "    df.columns = columns\n",
    "    df.date = 'N'\n",
    "    # print(len(df))\n",
    "    # locate df['individualID'] in dfeuro['Master ID'] and add df['cat_date'] to the df[date]\n",
    "    for i in range(0, len(df)):\n",
    "        for j in range(0, len(dfeuro)):\n",
    "            if df['individualID'][i] == dfeuro['Master ID'][j]:\n",
    "                df['date'][i] = dfeuro['cat_date'][j]\n",
    "  \n",
    "    # get unique dates in df['date'] and store in a list and remove None\n",
    "    date = df['date'].unique()\n",
    "    date = date.tolist()\n",
    "    if 'N' in date:\n",
    "        date.remove('N')\n",
    "    \n",
    "\n",
    "    countryfreq = {}\n",
    "    \n",
    "    for d in date:\n",
    "        freqdate= []\n",
    "        df2 = df[df['date'] == d]\n",
    "        for i in range(6, len(df.columns)):\n",
    "            minorAllele = minor[i]\n",
    "            count = 0\n",
    "            total = len(df2)*2\n",
    "            for j in range(0, len(df2)):\n",
    "                # count occurrences of the minor allele in column i\n",
    "                count += str(df2.iloc[j, i]).count(str(minorAllele))\n",
    "            freqdate.append(count/total)\n",
    "            \n",
    "        name= f'{country}_{d}'\n",
    "        countryfreq[name] = freqdate\n",
    "        \n",
    "    return countryfreq\n",
    "\n",
    "\n",
    "\n"
   ]
  },
  {
   "cell_type": "code",
   "execution_count": null,
   "metadata": {},
   "outputs": [],
   "source": [
    "import multiprocessing\n",
    "! rm Data/S1_freq.csv\n",
    "def process_country(country):\n",
    "    pop_path = f'Data/1_raw2freq/countries/{country}.txt'\n",
    "    freq_results = freq(pop_path, country)\n",
    "    with open('Data/1_raw2freq/S1_freq.csv', 'a') as f:\n",
    "        for key, value in freq_results.items():\n",
    "            countr = key.split('_')[0]\n",
    "            datee= key.split('_')[1]\n",
    "            str_values = [str(val) for val in value]  # convert float values to strings\n",
    "            f.write('%s\\t%s\\t%s\\n' % (countr, datee,'\\t'.join(str_values)))\n",
    "\n",
    "if __name__ == '__main__':\n",
    "    with multiprocessing.Pool() as pool:\n",
    "        pool.map(process_country, populations)"
   ]
  },
  {
   "attachments": {},
   "cell_type": "markdown",
   "metadata": {},
   "source": [
    "## Filter SNPs which have 0 in more than 80% of the countries-age groups"
   ]
  },
  {
   "cell_type": "code",
   "execution_count": 34,
   "metadata": {},
   "outputs": [
    {
     "data": {
      "text/html": [
       "<div>\n",
       "<style scoped>\n",
       "    .dataframe tbody tr th:only-of-type {\n",
       "        vertical-align: middle;\n",
       "    }\n",
       "\n",
       "    .dataframe tbody tr th {\n",
       "        vertical-align: top;\n",
       "    }\n",
       "\n",
       "    .dataframe thead th {\n",
       "        text-align: right;\n",
       "    }\n",
       "</style>\n",
       "<table border=\"1\" class=\"dataframe\">\n",
       "  <thead>\n",
       "    <tr style=\"text-align: right;\">\n",
       "      <th></th>\n",
       "      <th>country</th>\n",
       "      <th>date</th>\n",
       "      <th>rs3094315</th>\n",
       "      <th>rs6696609</th>\n",
       "      <th>rs9442372</th>\n",
       "      <th>rs4970405</th>\n",
       "      <th>rs11807848</th>\n",
       "      <th>rs4970421</th>\n",
       "      <th>rs2887286</th>\n",
       "      <th>rs113791678</th>\n",
       "      <th>...</th>\n",
       "      <th>rs739365</th>\n",
       "      <th>rs148828263</th>\n",
       "      <th>rs9616945</th>\n",
       "      <th>rs5770820</th>\n",
       "      <th>rs6010062</th>\n",
       "      <th>rs715586</th>\n",
       "      <th>rs8137951</th>\n",
       "      <th>rs3810648</th>\n",
       "      <th>rs78827609</th>\n",
       "      <th>rs116026001</th>\n",
       "    </tr>\n",
       "  </thead>\n",
       "  <tbody>\n",
       "    <tr>\n",
       "      <th>0</th>\n",
       "      <td>Austria</td>\n",
       "      <td>7000</td>\n",
       "      <td>0.000000</td>\n",
       "      <td>0.0</td>\n",
       "      <td>0.5</td>\n",
       "      <td>0.0</td>\n",
       "      <td>0.0</td>\n",
       "      <td>0.0</td>\n",
       "      <td>0.0</td>\n",
       "      <td>0.0</td>\n",
       "      <td>...</td>\n",
       "      <td>0.000000</td>\n",
       "      <td>0.0</td>\n",
       "      <td>0.000000</td>\n",
       "      <td>0.000000</td>\n",
       "      <td>0.000000</td>\n",
       "      <td>0.0</td>\n",
       "      <td>0.0</td>\n",
       "      <td>0.0</td>\n",
       "      <td>0.0</td>\n",
       "      <td>0.0</td>\n",
       "    </tr>\n",
       "    <tr>\n",
       "      <th>1</th>\n",
       "      <td>Austria</td>\n",
       "      <td>6000</td>\n",
       "      <td>0.166667</td>\n",
       "      <td>0.5</td>\n",
       "      <td>1.0</td>\n",
       "      <td>0.0</td>\n",
       "      <td>0.0</td>\n",
       "      <td>0.0</td>\n",
       "      <td>0.0</td>\n",
       "      <td>0.0</td>\n",
       "      <td>...</td>\n",
       "      <td>0.166667</td>\n",
       "      <td>0.0</td>\n",
       "      <td>0.166667</td>\n",
       "      <td>0.166667</td>\n",
       "      <td>0.333333</td>\n",
       "      <td>0.0</td>\n",
       "      <td>0.5</td>\n",
       "      <td>0.0</td>\n",
       "      <td>0.0</td>\n",
       "      <td>0.0</td>\n",
       "    </tr>\n",
       "  </tbody>\n",
       "</table>\n",
       "<p>2 rows × 147231 columns</p>\n",
       "</div>"
      ],
      "text/plain": [
       "   country  date  rs3094315  rs6696609  rs9442372  rs4970405  rs11807848  \\\n",
       "0  Austria  7000   0.000000        0.0        0.5        0.0         0.0   \n",
       "1  Austria  6000   0.166667        0.5        1.0        0.0         0.0   \n",
       "\n",
       "   rs4970421  rs2887286  rs113791678  ...  rs739365  rs148828263  rs9616945  \\\n",
       "0        0.0        0.0          0.0  ...  0.000000          0.0   0.000000   \n",
       "1        0.0        0.0          0.0  ...  0.166667          0.0   0.166667   \n",
       "\n",
       "   rs5770820  rs6010062  rs715586  rs8137951  rs3810648  rs78827609  \\\n",
       "0   0.000000   0.000000       0.0        0.0        0.0         0.0   \n",
       "1   0.166667   0.333333       0.0        0.5        0.0         0.0   \n",
       "\n",
       "   rs116026001  \n",
       "0          0.0  \n",
       "1          0.0  \n",
       "\n",
       "[2 rows x 147231 columns]"
      ]
     },
     "execution_count": 34,
     "metadata": {},
     "output_type": "execute_result"
    }
   ],
   "source": [
    "df = pd.read_csv('Data/1_raw2freq/S1_freq.csv', sep='\\t', header=None)\n",
    "#firts coumn name is country and from second to last column name is columns[5:]\n",
    "df.columns = ['country'] + columns[5:]\n"
   ]
  },
  {
   "cell_type": "code",
   "execution_count": 16,
   "metadata": {},
   "outputs": [],
   "source": [
    "dff=[]\n",
    "for i in range(0, len(df.columns)):\n",
    "   # count the number of times a value == 0 in each column\n",
    "    count = df[i].value_counts().get(0)\n",
    "    dff.append(count)"
   ]
  },
  {
   "cell_type": "code",
   "execution_count": 17,
   "metadata": {},
   "outputs": [
    {
     "data": {
      "text/plain": [
       "(119, 1058)"
      ]
     },
     "execution_count": 17,
     "metadata": {},
     "output_type": "execute_result"
    }
   ],
   "source": [
    "df2=df.copy()\n",
    "# get indeces of dff where that are > 80\n",
    "index = [i for i, x in enumerate(dff) if x > 95]\n",
    "# remove columns 0 and 1 from index\n",
    "index.remove(0)\n",
    "index.remove(1)\n",
    "# remove df2 columns that are in index\n",
    "df2.drop(df2.columns[index], axis=1, inplace=True)\n",
    "df2.shape"
   ]
  },
  {
   "cell_type": "code",
   "execution_count": 18,
   "metadata": {},
   "outputs": [],
   "source": [
    "# save to csv without index and header\n",
    "# df2.to_csv('Data/1_raw2freq/S1_freq_filtered.csv', index=False, header=False, sep='\\t')\n",
    "\n",
    "df2.to_csv('Data/1_raw2freq/test.csv', index=False, header=False, sep='\\t')\n"
   ]
  },
  {
   "cell_type": "code",
   "execution_count": 19,
   "metadata": {},
   "outputs": [],
   "source": [
    "# convert every *.csv file in the directory to *.csv.gz\n",
    "! gzip -9 Data/1_raw2freq/*.csv\n"
   ]
  }
 ],
 "metadata": {
  "kernelspec": {
   "display_name": "Python 3",
   "language": "python",
   "name": "python3"
  },
  "language_info": {
   "codemirror_mode": {
    "name": "ipython",
    "version": 3
   },
   "file_extension": ".py",
   "mimetype": "text/x-python",
   "name": "python",
   "nbconvert_exporter": "python",
   "pygments_lexer": "ipython3",
   "version": "3.10.6"
  },
  "orig_nbformat": 4
 },
 "nbformat": 4,
 "nbformat_minor": 2
}
